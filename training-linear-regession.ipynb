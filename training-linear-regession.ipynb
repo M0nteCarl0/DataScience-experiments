{
 "cells": [
  {
   "cell_type": "code",
   "execution_count": 1,
   "id": "d9228ee9",
   "metadata": {
    "execution": {
     "iopub.execute_input": "2023-04-11T06:59:47.016276Z",
     "iopub.status.busy": "2023-04-11T06:59:47.015842Z",
     "iopub.status.idle": "2023-04-11T06:59:48.352484Z",
     "shell.execute_reply": "2023-04-11T06:59:48.351399Z"
    },
    "papermill": {
     "duration": 1.346363,
     "end_time": "2023-04-11T06:59:48.355455",
     "exception": false,
     "start_time": "2023-04-11T06:59:47.009092",
     "status": "completed"
    },
    "tags": []
   },
   "outputs": [],
   "source": [
    "import pandas as pd\n",
    "import matplotlib.pyplot as plt\n",
    "from sklearn.model_selection import train_test_split\n",
    "from sklearn.linear_model import LinearRegression"
   ]
  },
  {
   "cell_type": "code",
   "execution_count": 2,
   "id": "b41b0227",
   "metadata": {
    "execution": {
     "iopub.execute_input": "2023-04-11T06:59:48.365327Z",
     "iopub.status.busy": "2023-04-11T06:59:48.364919Z",
     "iopub.status.idle": "2023-04-11T06:59:48.392954Z",
     "shell.execute_reply": "2023-04-11T06:59:48.391647Z"
    },
    "papermill": {
     "duration": 0.036462,
     "end_time": "2023-04-11T06:59:48.395930",
     "exception": false,
     "start_time": "2023-04-11T06:59:48.359468",
     "status": "completed"
    },
    "tags": []
   },
   "outputs": [],
   "source": [
    "dataset = pd.read_csv(\"/kaggle/input/salary-data/Salary_Data.csv\")"
   ]
  },
  {
   "cell_type": "code",
   "execution_count": 3,
   "id": "dd405419",
   "metadata": {
    "execution": {
     "iopub.execute_input": "2023-04-11T06:59:48.405431Z",
     "iopub.status.busy": "2023-04-11T06:59:48.404960Z",
     "iopub.status.idle": "2023-04-11T06:59:48.442617Z",
     "shell.execute_reply": "2023-04-11T06:59:48.441438Z"
    },
    "papermill": {
     "duration": 0.045466,
     "end_time": "2023-04-11T06:59:48.445372",
     "exception": false,
     "start_time": "2023-04-11T06:59:48.399906",
     "status": "completed"
    },
    "tags": []
   },
   "outputs": [
    {
     "data": {
      "text/html": [
       "<div>\n",
       "<style scoped>\n",
       "    .dataframe tbody tr th:only-of-type {\n",
       "        vertical-align: middle;\n",
       "    }\n",
       "\n",
       "    .dataframe tbody tr th {\n",
       "        vertical-align: top;\n",
       "    }\n",
       "\n",
       "    .dataframe thead th {\n",
       "        text-align: right;\n",
       "    }\n",
       "</style>\n",
       "<table border=\"1\" class=\"dataframe\">\n",
       "  <thead>\n",
       "    <tr style=\"text-align: right;\">\n",
       "      <th></th>\n",
       "      <th>YearsExperience</th>\n",
       "      <th>Salary</th>\n",
       "    </tr>\n",
       "  </thead>\n",
       "  <tbody>\n",
       "    <tr>\n",
       "      <th>0</th>\n",
       "      <td>1.1</td>\n",
       "      <td>39343.0</td>\n",
       "    </tr>\n",
       "    <tr>\n",
       "      <th>1</th>\n",
       "      <td>1.3</td>\n",
       "      <td>46205.0</td>\n",
       "    </tr>\n",
       "    <tr>\n",
       "      <th>2</th>\n",
       "      <td>1.5</td>\n",
       "      <td>37731.0</td>\n",
       "    </tr>\n",
       "    <tr>\n",
       "      <th>3</th>\n",
       "      <td>2.0</td>\n",
       "      <td>43525.0</td>\n",
       "    </tr>\n",
       "    <tr>\n",
       "      <th>4</th>\n",
       "      <td>2.2</td>\n",
       "      <td>39891.0</td>\n",
       "    </tr>\n",
       "    <tr>\n",
       "      <th>5</th>\n",
       "      <td>2.9</td>\n",
       "      <td>56642.0</td>\n",
       "    </tr>\n",
       "    <tr>\n",
       "      <th>6</th>\n",
       "      <td>3.0</td>\n",
       "      <td>60150.0</td>\n",
       "    </tr>\n",
       "    <tr>\n",
       "      <th>7</th>\n",
       "      <td>3.2</td>\n",
       "      <td>54445.0</td>\n",
       "    </tr>\n",
       "    <tr>\n",
       "      <th>8</th>\n",
       "      <td>3.2</td>\n",
       "      <td>64445.0</td>\n",
       "    </tr>\n",
       "    <tr>\n",
       "      <th>9</th>\n",
       "      <td>3.7</td>\n",
       "      <td>57189.0</td>\n",
       "    </tr>\n",
       "    <tr>\n",
       "      <th>10</th>\n",
       "      <td>3.9</td>\n",
       "      <td>63218.0</td>\n",
       "    </tr>\n",
       "    <tr>\n",
       "      <th>11</th>\n",
       "      <td>4.0</td>\n",
       "      <td>55794.0</td>\n",
       "    </tr>\n",
       "    <tr>\n",
       "      <th>12</th>\n",
       "      <td>4.0</td>\n",
       "      <td>56957.0</td>\n",
       "    </tr>\n",
       "    <tr>\n",
       "      <th>13</th>\n",
       "      <td>4.1</td>\n",
       "      <td>57081.0</td>\n",
       "    </tr>\n",
       "    <tr>\n",
       "      <th>14</th>\n",
       "      <td>4.5</td>\n",
       "      <td>61111.0</td>\n",
       "    </tr>\n",
       "    <tr>\n",
       "      <th>15</th>\n",
       "      <td>4.9</td>\n",
       "      <td>67938.0</td>\n",
       "    </tr>\n",
       "    <tr>\n",
       "      <th>16</th>\n",
       "      <td>5.1</td>\n",
       "      <td>66029.0</td>\n",
       "    </tr>\n",
       "    <tr>\n",
       "      <th>17</th>\n",
       "      <td>5.3</td>\n",
       "      <td>83088.0</td>\n",
       "    </tr>\n",
       "    <tr>\n",
       "      <th>18</th>\n",
       "      <td>5.9</td>\n",
       "      <td>81363.0</td>\n",
       "    </tr>\n",
       "    <tr>\n",
       "      <th>19</th>\n",
       "      <td>6.0</td>\n",
       "      <td>93940.0</td>\n",
       "    </tr>\n",
       "    <tr>\n",
       "      <th>20</th>\n",
       "      <td>6.8</td>\n",
       "      <td>91738.0</td>\n",
       "    </tr>\n",
       "    <tr>\n",
       "      <th>21</th>\n",
       "      <td>7.1</td>\n",
       "      <td>98273.0</td>\n",
       "    </tr>\n",
       "    <tr>\n",
       "      <th>22</th>\n",
       "      <td>7.9</td>\n",
       "      <td>101302.0</td>\n",
       "    </tr>\n",
       "    <tr>\n",
       "      <th>23</th>\n",
       "      <td>8.2</td>\n",
       "      <td>113812.0</td>\n",
       "    </tr>\n",
       "    <tr>\n",
       "      <th>24</th>\n",
       "      <td>8.7</td>\n",
       "      <td>109431.0</td>\n",
       "    </tr>\n",
       "    <tr>\n",
       "      <th>25</th>\n",
       "      <td>9.0</td>\n",
       "      <td>105582.0</td>\n",
       "    </tr>\n",
       "    <tr>\n",
       "      <th>26</th>\n",
       "      <td>9.5</td>\n",
       "      <td>116969.0</td>\n",
       "    </tr>\n",
       "    <tr>\n",
       "      <th>27</th>\n",
       "      <td>9.6</td>\n",
       "      <td>112635.0</td>\n",
       "    </tr>\n",
       "    <tr>\n",
       "      <th>28</th>\n",
       "      <td>10.3</td>\n",
       "      <td>122391.0</td>\n",
       "    </tr>\n",
       "    <tr>\n",
       "      <th>29</th>\n",
       "      <td>10.5</td>\n",
       "      <td>121872.0</td>\n",
       "    </tr>\n",
       "  </tbody>\n",
       "</table>\n",
       "</div>"
      ],
      "text/plain": [
       "    YearsExperience    Salary\n",
       "0               1.1   39343.0\n",
       "1               1.3   46205.0\n",
       "2               1.5   37731.0\n",
       "3               2.0   43525.0\n",
       "4               2.2   39891.0\n",
       "5               2.9   56642.0\n",
       "6               3.0   60150.0\n",
       "7               3.2   54445.0\n",
       "8               3.2   64445.0\n",
       "9               3.7   57189.0\n",
       "10              3.9   63218.0\n",
       "11              4.0   55794.0\n",
       "12              4.0   56957.0\n",
       "13              4.1   57081.0\n",
       "14              4.5   61111.0\n",
       "15              4.9   67938.0\n",
       "16              5.1   66029.0\n",
       "17              5.3   83088.0\n",
       "18              5.9   81363.0\n",
       "19              6.0   93940.0\n",
       "20              6.8   91738.0\n",
       "21              7.1   98273.0\n",
       "22              7.9  101302.0\n",
       "23              8.2  113812.0\n",
       "24              8.7  109431.0\n",
       "25              9.0  105582.0\n",
       "26              9.5  116969.0\n",
       "27              9.6  112635.0\n",
       "28             10.3  122391.0\n",
       "29             10.5  121872.0"
      ]
     },
     "execution_count": 3,
     "metadata": {},
     "output_type": "execute_result"
    }
   ],
   "source": [
    "dataset"
   ]
  },
  {
   "cell_type": "code",
   "execution_count": 4,
   "id": "8daaee8c",
   "metadata": {
    "execution": {
     "iopub.execute_input": "2023-04-11T06:59:48.455227Z",
     "iopub.status.busy": "2023-04-11T06:59:48.454800Z",
     "iopub.status.idle": "2023-04-11T06:59:48.461811Z",
     "shell.execute_reply": "2023-04-11T06:59:48.459831Z"
    },
    "papermill": {
     "duration": 0.014432,
     "end_time": "2023-04-11T06:59:48.463977",
     "exception": false,
     "start_time": "2023-04-11T06:59:48.449545",
     "status": "completed"
    },
    "tags": []
   },
   "outputs": [],
   "source": [
    "x = dataset.iloc[:,:-1].values\n",
    "y = dataset.iloc[:,:1].values"
   ]
  },
  {
   "cell_type": "code",
   "execution_count": 5,
   "id": "4f7c195e",
   "metadata": {
    "execution": {
     "iopub.execute_input": "2023-04-11T06:59:48.473977Z",
     "iopub.status.busy": "2023-04-11T06:59:48.473612Z",
     "iopub.status.idle": "2023-04-11T06:59:48.481920Z",
     "shell.execute_reply": "2023-04-11T06:59:48.479802Z"
    },
    "papermill": {
     "duration": 0.016138,
     "end_time": "2023-04-11T06:59:48.484290",
     "exception": false,
     "start_time": "2023-04-11T06:59:48.468152",
     "status": "completed"
    },
    "tags": []
   },
   "outputs": [
    {
     "name": "stdout",
     "output_type": "stream",
     "text": [
      "Year experience\n",
      "[[ 1.1]\n",
      " [ 1.3]\n",
      " [ 1.5]\n",
      " [ 2. ]\n",
      " [ 2.2]\n",
      " [ 2.9]\n",
      " [ 3. ]\n",
      " [ 3.2]\n",
      " [ 3.2]\n",
      " [ 3.7]\n",
      " [ 3.9]\n",
      " [ 4. ]\n",
      " [ 4. ]\n",
      " [ 4.1]\n",
      " [ 4.5]\n",
      " [ 4.9]\n",
      " [ 5.1]\n",
      " [ 5.3]\n",
      " [ 5.9]\n",
      " [ 6. ]\n",
      " [ 6.8]\n",
      " [ 7.1]\n",
      " [ 7.9]\n",
      " [ 8.2]\n",
      " [ 8.7]\n",
      " [ 9. ]\n",
      " [ 9.5]\n",
      " [ 9.6]\n",
      " [10.3]\n",
      " [10.5]]\n",
      "Salary\n",
      "[[ 1.1]\n",
      " [ 1.3]\n",
      " [ 1.5]\n",
      " [ 2. ]\n",
      " [ 2.2]\n",
      " [ 2.9]\n",
      " [ 3. ]\n",
      " [ 3.2]\n",
      " [ 3.2]\n",
      " [ 3.7]\n",
      " [ 3.9]\n",
      " [ 4. ]\n",
      " [ 4. ]\n",
      " [ 4.1]\n",
      " [ 4.5]\n",
      " [ 4.9]\n",
      " [ 5.1]\n",
      " [ 5.3]\n",
      " [ 5.9]\n",
      " [ 6. ]\n",
      " [ 6.8]\n",
      " [ 7.1]\n",
      " [ 7.9]\n",
      " [ 8.2]\n",
      " [ 8.7]\n",
      " [ 9. ]\n",
      " [ 9.5]\n",
      " [ 9.6]\n",
      " [10.3]\n",
      " [10.5]]\n"
     ]
    }
   ],
   "source": [
    "print(\"Year experience\")\n",
    "print(x) \n",
    "print(\"Salary\") \n",
    "print(y) "
   ]
  },
  {
   "cell_type": "markdown",
   "id": "79fbe2fa",
   "metadata": {
    "papermill": {
     "duration": 0.003541,
     "end_time": "2023-04-11T06:59:48.491899",
     "exception": false,
     "start_time": "2023-04-11T06:59:48.488358",
     "status": "completed"
    },
    "tags": []
   },
   "source": []
  },
  {
   "cell_type": "code",
   "execution_count": 6,
   "id": "15982c15",
   "metadata": {
    "execution": {
     "iopub.execute_input": "2023-04-11T06:59:48.501092Z",
     "iopub.status.busy": "2023-04-11T06:59:48.500743Z",
     "iopub.status.idle": "2023-04-11T06:59:48.675507Z",
     "shell.execute_reply": "2023-04-11T06:59:48.674480Z"
    },
    "papermill": {
     "duration": 0.182059,
     "end_time": "2023-04-11T06:59:48.677615",
     "exception": false,
     "start_time": "2023-04-11T06:59:48.495556",
     "status": "completed"
    },
    "tags": []
   },
   "outputs": [
    {
     "data": {
      "image/png": "[encoded data removed]",
      "text/plain": [
       "<Figure size 640x480 with 1 Axes>"
      ]
     },
     "metadata": {},
     "output_type": "display_data"
    }
   ],
   "source": [
    "plt.plot(x, y, color = 'red')\n",
    "plt.title(\"Salary vs Experience(Raw dataset)\")\n",
    "plt.xlabel(\"Years of experience\")\n",
    "plt.ylabel(\"Salary\")\n",
    "plt.show()"
   ]
  },
  {
   "cell_type": "code",
   "execution_count": 7,
   "id": "ead9b6dc",
   "metadata": {
    "execution": {
     "iopub.execute_input": "2023-04-11T06:59:48.688982Z",
     "iopub.status.busy": "2023-04-11T06:59:48.688497Z",
     "iopub.status.idle": "2023-04-11T06:59:48.698398Z",
     "shell.execute_reply": "2023-04-11T06:59:48.696671Z"
    },
    "papermill": {
     "duration": 0.018512,
     "end_time": "2023-04-11T06:59:48.700849",
     "exception": false,
     "start_time": "2023-04-11T06:59:48.682337",
     "status": "completed"
    },
    "tags": []
   },
   "outputs": [],
   "source": [
    "x_train,x_test, y_train,y_test = train_test_split(x, y, test_size = 1/4, random_state = 0 )"
   ]
  },
  {
   "cell_type": "code",
   "execution_count": 8,
   "id": "ae514913",
   "metadata": {
    "execution": {
     "iopub.execute_input": "2023-04-11T06:59:48.711746Z",
     "iopub.status.busy": "2023-04-11T06:59:48.710969Z",
     "iopub.status.idle": "2023-04-11T06:59:48.737862Z",
     "shell.execute_reply": "2023-04-11T06:59:48.736285Z"
    },
    "papermill": {
     "duration": 0.034725,
     "end_time": "2023-04-11T06:59:48.740075",
     "exception": false,
     "start_time": "2023-04-11T06:59:48.705350",
     "status": "completed"
    },
    "tags": []
   },
   "outputs": [
    {
     "data": {
      "text/plain": [
       "LinearRegression()"
      ]
     },
     "execution_count": 8,
     "metadata": {},
     "output_type": "execute_result"
    }
   ],
   "source": [
    "lin_regressor = LinearRegression()\n",
    "lin_regressor.fit(x_train, y_train)\n"
   ]
  },
  {
   "cell_type": "code",
   "execution_count": 9,
   "id": "c173ee0e",
   "metadata": {
    "execution": {
     "iopub.execute_input": "2023-04-11T06:59:48.751324Z",
     "iopub.status.busy": "2023-04-11T06:59:48.750867Z",
     "iopub.status.idle": "2023-04-11T06:59:48.755482Z",
     "shell.execute_reply": "2023-04-11T06:59:48.754772Z"
    },
    "papermill": {
     "duration": 0.01254,
     "end_time": "2023-04-11T06:59:48.757237",
     "exception": false,
     "start_time": "2023-04-11T06:59:48.744697",
     "status": "completed"
    },
    "tags": []
   },
   "outputs": [],
   "source": [
    "y_pred = lin_regressor.predict(x_test)"
   ]
  },
  {
   "cell_type": "code",
   "execution_count": 10,
   "id": "9b42b646",
   "metadata": {
    "execution": {
     "iopub.execute_input": "2023-04-11T06:59:48.767836Z",
     "iopub.status.busy": "2023-04-11T06:59:48.767485Z",
     "iopub.status.idle": "2023-04-11T06:59:48.775449Z",
     "shell.execute_reply": "2023-04-11T06:59:48.774315Z"
    },
    "papermill": {
     "duration": 0.015514,
     "end_time": "2023-04-11T06:59:48.777450",
     "exception": false,
     "start_time": "2023-04-11T06:59:48.761936",
     "status": "completed"
    },
    "tags": []
   },
   "outputs": [
    {
     "data": {
      "text/plain": [
       "array([[ 1.5],\n",
       "       [10.3],\n",
       "       [ 4.1],\n",
       "       [ 3.9],\n",
       "       [ 9.5],\n",
       "       [ 8.7],\n",
       "       [ 9.6],\n",
       "       [ 4. ]])"
      ]
     },
     "execution_count": 10,
     "metadata": {},
     "output_type": "execute_result"
    }
   ],
   "source": [
    "y_pred"
   ]
  },
  {
   "cell_type": "code",
   "execution_count": 11,
   "id": "ab28e9d2",
   "metadata": {
    "execution": {
     "iopub.execute_input": "2023-04-11T06:59:48.788019Z",
     "iopub.status.busy": "2023-04-11T06:59:48.787674Z",
     "iopub.status.idle": "2023-04-11T06:59:48.949974Z",
     "shell.execute_reply": "2023-04-11T06:59:48.948710Z"
    },
    "papermill": {
     "duration": 0.170823,
     "end_time": "2023-04-11T06:59:48.952861",
     "exception": false,
     "start_time": "2023-04-11T06:59:48.782038",
     "status": "completed"
    },
    "tags": []
   },
   "outputs": [
    {
     "data": {
      "image/png": "[encoded data removed]",
      "text/plain": [
       "<Figure size 640x480 with 1 Axes>"
      ]
     },
     "metadata": {},
     "output_type": "display_data"
    }
   ],
   "source": [
    "plt.scatter(x_train, y_train, color = 'green')\n",
    "plt.plot(x_train, lin_regressor.predict(x_train), color = 'red')\n",
    "plt.title(\"Salary vs Experience(Train dataset)\")\n",
    "plt.xlabel(\"Years of experience\")\n",
    "plt.ylabel(\"Salary\")\n",
    "plt.show()"
   ]
  },
  {
   "cell_type": "code",
   "execution_count": 12,
   "id": "af8c8287",
   "metadata": {
    "execution": {
     "iopub.execute_input": "2023-04-11T06:59:48.966115Z",
     "iopub.status.busy": "2023-04-11T06:59:48.965690Z",
     "iopub.status.idle": "2023-04-11T06:59:49.124539Z",
     "shell.execute_reply": "2023-04-11T06:59:49.122893Z"
    },
    "papermill": {
     "duration": 0.16816,
     "end_time": "2023-04-11T06:59:49.127057",
     "exception": false,
     "start_time": "2023-04-11T06:59:48.958897",
     "status": "completed"
    },
    "tags": []
   },
   "outputs": [
    {
     "data": {
      "image/png": "[encoded data removed]",
      "text/plain": [
       "<Figure size 640x480 with 1 Axes>"
      ]
     },
     "metadata": {},
     "output_type": "display_data"
    }
   ],
   "source": [
    "plt.scatter(x_test, y_test, color = 'green')\n",
    "plt.plot(x_test, lin_regressor.predict(x_test), color = 'red')\n",
    "plt.title(\"Salary vs Experience(Test dataset)\")\n",
    "plt.xlabel(\"Years of experience\")\n",
    "plt.ylabel(\"Salary\")\n",
    "plt.show()"
   ]
  },
  {
   "cell_type": "raw",
   "id": "7cf4ee83",
   "metadata": {
    "papermill": {
     "duration": 0.00489,
     "end_time": "2023-04-11T06:59:49.137243",
     "exception": false,
     "start_time": "2023-04-11T06:59:49.132353",
     "status": "completed"
    },
    "tags": []
   },
   "source": []
  }
 ],
 "metadata": {
  "kernelspec": {
   "display_name": "Python 3",
   "language": "python",
   "name": "python3"
  },
  "language_info": {
   "codemirror_mode": {
    "name": "ipython",
    "version": 3
   },
   "file_extension": ".py",
   "mimetype": "text/x-python",
   "name": "python",
   "nbconvert_exporter": "python",
   "pygments_lexer": "ipython3",
   "version": "3.7.12"
  },
  "papermill": {
   "default_parameters": {},
   "duration": 12.500727,
   "end_time": "2023-04-11T06:59:49.966349",
   "environment_variables": {},
   "exception": null,
   "input_path": "__notebook__.ipynb",
   "output_path": "__notebook__.ipynb",
   "parameters": {},
   "start_time": "2023-04-11T06:59:37.465622",
   "version": "2.4.0"
  }
 },
 "nbformat": 4,
 "nbformat_minor": 5
}
